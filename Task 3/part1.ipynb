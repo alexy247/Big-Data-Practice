{
 "cells": [
  {
   "cell_type": "code",
   "execution_count": 166,
   "metadata": {},
   "outputs": [],
   "source": [
    "import requests\n",
    "from user_agent import generate_user_agent\n",
    "from bs4 import BeautifulSoup\n",
    "import pandas as pd\n",
    "from tqdm import tqdm"
   ]
  },
  {
   "cell_type": "code",
   "execution_count": 167,
   "metadata": {},
   "outputs": [],
   "source": [
    "HEADERS = {'User-Agent': generate_user_agent(device_type=\"desktop\", os=('mac', 'linux'))}\n",
    "URL = 'http://notelections.online'\n",
    "LINK = 'http://notelections.online/region/region/izbirkom?action=show&root=1&tvd=100100084849066&vrn=100100084849062&region=0&global=1&sub_region=0&prver=0&pronetvd=null&vibid=100100084849066&type=227'"
   ]
  },
  {
   "cell_type": "markdown",
   "metadata": {},
   "source": [
    "### Анализ ссылок сайта\n",
    "http://notelections.online/region/izbirkom?action=tvdTree&tvdchildren=true&vrn=100100084849062&tvd=100100084849067\n",
    "\n",
    "<i>последняя:</i>\n",
    "http://notelections.online/region/izbirkom?action=show&root=1000001&tvd=2012000364363&vrn=100100084849062&prver=0&pronetvd=null&region=1&sub_region=1&type=227&report_mode=null\n",
    "\n",
    "<i>первая в след разделе:</i>\n",
    "http://notelections.online/region/izbirkom?action=show&root=1000002&tvd=2042000367645&vrn=100100084849062&prver=0&pronetvd=null&region=2&sub_region=2&type=227&report_mode=null\n",
    "\n",
    "<i>рандомная:</i>\n",
    "http://notelections.online/region/izbirkom?action=show&root=1000082&tvd=2412000447687&vrn=100100084849062&prver=0&pronetvd=null&region=91&sub_region=91&type=227&report_mode=null\n",
    "\n",
    "### С помощью анализа сайта разработан план скрапинга данных\n",
    "1. Начальная ссылка: http://notelections.online/region/izbirkom?action=show&root=0&tvd=100100084849066&vrn=100100084849062&prver=0&pronetvd=null&region=0&sub_region=0&type=227&report_mode=null\n",
    "2. a.tree-open -> ul li.tree-li (по каждому, запоминаем id тега) -> a:nth-chield(2) href\n",
    "3. Переходим по полученной ссылке и ищем по id элемент -> ul -> li.tree-li (по каждому) -> a:nth-chield(2) href\n",
    "4. Переходим по полученной ссылке и берем таблицу: .table-fixed-columns.table-bordered.table-striped.table-sm\n",
    "5. Выделение данных из таблицы: thead (по всем) -> tр (начиная с 3 его) - соберем заголовки, и tr (по всем) -> td (начиная с 3 его) - соберем числовые данные"
   ]
  },
  {
   "cell_type": "code",
   "execution_count": 170,
   "metadata": {},
   "outputs": [
    {
     "name": "stderr",
     "output_type": "stream",
     "text": [
      " 98%|█████████▊| 85/87 [2:36:24<03:40, 110.41s/it]\n"
     ]
    },
    {
     "ename": "AttributeError",
     "evalue": "'NoneType' object has no attribute 'attrs'",
     "output_type": "error",
     "traceback": [
      "\u001b[0;31m---------------------------------------------------------------------------\u001b[0m",
      "\u001b[0;31mAttributeError\u001b[0m                            Traceback (most recent call last)",
      "\u001b[0;32m<ipython-input-170-b3395fb804d9>\u001b[0m in \u001b[0;36m<module>\u001b[0;34m\u001b[0m\n\u001b[1;32m     29\u001b[0m             \u001b[0;32mfor\u001b[0m \u001b[0mli_2\u001b[0m \u001b[0;32min\u001b[0m \u001b[0mli_list_2\u001b[0m\u001b[0;34m:\u001b[0m\u001b[0;34m\u001b[0m\u001b[0;34m\u001b[0m\u001b[0m\n\u001b[1;32m     30\u001b[0m                 \u001b[0mlink_tik\u001b[0m \u001b[0;34m=\u001b[0m \u001b[0mli_2\u001b[0m\u001b[0;34m.\u001b[0m\u001b[0mfind\u001b[0m\u001b[0;34m(\u001b[0m\u001b[0;34m'a'\u001b[0m\u001b[0;34m)\u001b[0m\u001b[0;34m\u001b[0m\u001b[0;34m\u001b[0m\u001b[0m\n\u001b[0;32m---> 31\u001b[0;31m                 \u001b[0mhref\u001b[0m \u001b[0;34m=\u001b[0m \u001b[0mlink_tik\u001b[0m\u001b[0;34m.\u001b[0m\u001b[0mattrs\u001b[0m\u001b[0;34m[\u001b[0m\u001b[0;34m'href'\u001b[0m\u001b[0;34m]\u001b[0m\u001b[0;34m\u001b[0m\u001b[0;34m\u001b[0m\u001b[0m\n\u001b[0m\u001b[1;32m     32\u001b[0m \u001b[0;34m\u001b[0m\u001b[0m\n\u001b[1;32m     33\u001b[0m                 \u001b[0mtik_page\u001b[0m \u001b[0;34m=\u001b[0m \u001b[0mrequests\u001b[0m\u001b[0;34m.\u001b[0m\u001b[0mget\u001b[0m\u001b[0;34m(\u001b[0m\u001b[0mURL\u001b[0m \u001b[0;34m+\u001b[0m \u001b[0mhref\u001b[0m\u001b[0;34m,\u001b[0m \u001b[0mtimeout\u001b[0m\u001b[0;34m=\u001b[0m\u001b[0;36m10\u001b[0m\u001b[0;34m,\u001b[0m \u001b[0mheaders\u001b[0m\u001b[0;34m=\u001b[0m\u001b[0mHEADERS\u001b[0m\u001b[0;34m)\u001b[0m\u001b[0;34m\u001b[0m\u001b[0;34m\u001b[0m\u001b[0m\n",
      "\u001b[0;31mAttributeError\u001b[0m: 'NoneType' object has no attribute 'attrs'"
     ]
    }
   ],
   "source": [
    "page_response = requests.get(LINK, timeout=5, headers=HEADERS)\n",
    "columns = ['Регион', 'Тик', 'УИК']\n",
    "\n",
    "if page_response.status_code == 200:\n",
    "    soup = BeautifulSoup(page_response.text, 'html.parser')\n",
    "    \n",
    "    # Список всех регионов\n",
    "    li_table = soup.find('table', class_='table-fixed-columns')\n",
    "    li_list = li_table.findAll('th')[3:]\n",
    "\n",
    "    # Список всех стандартных полей из протокола\n",
    "    columns_list = li_table.find('tbody').findAll('tr')\n",
    "    \n",
    "    for column in columns_list:\n",
    "        columns.append(column.findAll('td')[1].text)\n",
    "\n",
    "    df = pd.DataFrame(columns=columns)\n",
    "\n",
    "    for li in tqdm(li_list):\n",
    "        link = li.find('a').attrs['href']\n",
    "        region_page = requests.get(URL + link, timeout=10, headers=HEADERS)\n",
    "\n",
    "        if region_page.status_code == 200:\n",
    "            region_soup = BeautifulSoup(region_page.text, 'html.parser')\n",
    "\n",
    "            # Список всех подрегионов\n",
    "            li_list_2 = region_soup.find('table', class_='table-fixed-columns').findAll('th')[3:]\n",
    "\n",
    "            for li_2 in li_list_2:\n",
    "                link_tik = li_2.find('a')\n",
    "                href = link_tik.attrs['href']\n",
    "\n",
    "                tik_page = requests.get(URL + href, timeout=10, headers=HEADERS)\n",
    "\n",
    "                if tik_page.status_code == 200:\n",
    "                    tik_soup = BeautifulSoup(tik_page.text, 'html.parser')\n",
    "\n",
    "                    # with open(\"link.html\", 'w', encoding='utf-8') as file:\n",
    "                    #     file.write(tik_page.text)\n",
    "\n",
    "                    table = tik_soup.find('table', class_='table-fixed-columns')\n",
    "\n",
    "                    # список всех уиков:\n",
    "                    head = table.findAll('th')[2:]\n",
    "                    col_count = len(head)\n",
    "\n",
    "                    rows = table.find('tbody').findAll('tr')\n",
    "                    row_count = len(rows)\n",
    "\n",
    "                    data = [[] * row_count for i in range(col_count)]\n",
    "\n",
    "                    for row in rows:\n",
    "                        td = row.findAll('td')[2:]\n",
    "                        \n",
    "                        for t in range(len(td)):\n",
    "                            text = td[t].find('nobr').text\n",
    "                            data[t].append(text)\n",
    "\n",
    "\n",
    "                    for data_row in data:\n",
    "                        append_row = pd.Series([li.text, link_tik.text, head[data.index(data_row)].text, data_row[0], data_row[1], data_row[2], data_row[3], data_row[4], data_row[5], data_row[6], data_row[7], data_row[8], data_row[9], data_row[10], data_row[11], data_row[12], data_row[13], data_row[14], data_row[15], data_row[16], data_row[17], data_row[18], data_row[19]], index=df.columns)\n",
    "                        df = df.append(append_row, ignore_index=True)\n",
    "                \n",
    "                else:\n",
    "                    print(\"не удалось взять данные из \" + str(URL) + str(href))\n",
    "                    print(\"li_2 \" + str(li_2))\n",
    "\n",
    "        else:\n",
    "            print(\"не удалось взять данные из \" + str(URL) + str(link))\n",
    "            print(\"li \" + str(li))\n",
    "\n",
    "\n",
    "else:\n",
    "    print(\"page response status code is \" + str(page_response.status_code) + \" on page link: \" + str(LINK))"
   ]
  },
  {
   "cell_type": "markdown",
   "metadata": {},
   "source": [
    "Упало на 85/87 регионе. Оказалось, что там нет подрегионов (ТИК). Соберем li_list[85] до li_list[86] отдельно."
   ]
  },
  {
   "cell_type": "code",
   "execution_count": 171,
   "metadata": {},
   "outputs": [],
   "source": [
    "df.to_csv('result.csv')"
   ]
  },
  {
   "cell_type": "code",
   "execution_count": 184,
   "metadata": {},
   "outputs": [
    {
     "name": "stdout",
     "output_type": "stream",
     "text": [
      "<th class=\"text-center\"><nobr><a href=\"/region/region/izbirkom?action=show&amp;tvd=100100084849066&amp;vrn=100100084849062&amp;region=0&amp;global=1&amp;sub_region=0&amp;prver=0&amp;pronetvd=null&amp;vibid=100100084849218&amp;type=227\" style=\"text-decoration: none\">Город Байконур (Республика Казахстан)</a></nobr></th>\n"
     ]
    }
   ],
   "source": [
    "print(li_list[85])"
   ]
  },
  {
   "cell_type": "code",
   "execution_count": 191,
   "metadata": {},
   "outputs": [
    {
     "name": "stderr",
     "output_type": "stream",
     "text": [
      "100%|██████████| 2/2 [00:16<00:00,  8.10s/it]\n"
     ]
    }
   ],
   "source": [
    "df_add = pd.DataFrame(columns=columns)\n",
    "\n",
    "for li in tqdm(li_list[85:]):\n",
    "    link = li.find('a').attrs['href']\n",
    "    region_page = requests.get(URL + link, timeout=10, headers=HEADERS)\n",
    "\n",
    "    if region_page.status_code == 200:\n",
    "        region_soup = BeautifulSoup(region_page.text, 'html.parser')\n",
    "\n",
    "        table = region_soup.find('table', class_='table-fixed-columns')\n",
    "\n",
    "        # список всех уиков:\n",
    "        head = table.findAll('th')[2:]\n",
    "        col_count = len(head)\n",
    "\n",
    "        rows = table.find('tbody').findAll('tr')\n",
    "        row_count = len(rows)\n",
    "\n",
    "        data = [[] * row_count for i in range(col_count)]\n",
    "\n",
    "        for row in rows:\n",
    "            td = row.findAll('td')[2:]\n",
    "            \n",
    "            for t in range(len(td)):\n",
    "                text = td[t].find('nobr').text\n",
    "                data[t].append(text)\n",
    "\n",
    "\n",
    "        for data_row in data:\n",
    "            append_row = pd.Series([li.text, None, head[data.index(data_row)].text, data_row[0], data_row[1], data_row[2], data_row[3], data_row[4], data_row[5], data_row[6], data_row[7], data_row[8], data_row[9], data_row[10], data_row[11], data_row[12], data_row[13], data_row[14], data_row[15], data_row[16], data_row[17], data_row[18], data_row[19]], index=df_add.columns)\n",
    "            df_add = df_add.append(append_row, ignore_index=True)"
   ]
  },
  {
   "cell_type": "code",
   "execution_count": 187,
   "metadata": {},
   "outputs": [],
   "source": [
    "df = df.append(df_add)\n",
    "df.to_csv('result.csv')"
   ]
  },
  {
   "cell_type": "code",
   "execution_count": 188,
   "metadata": {},
   "outputs": [
    {
     "data": {
      "text/html": "<div>\n<style scoped>\n    .dataframe tbody tr th:only-of-type {\n        vertical-align: middle;\n    }\n\n    .dataframe tbody tr th {\n        vertical-align: top;\n    }\n\n    .dataframe thead th {\n        text-align: right;\n    }\n</style>\n<table border=\"1\" class=\"dataframe\">\n  <thead>\n    <tr style=\"text-align: right;\">\n      <th></th>\n      <th>Регион</th>\n      <th>Тик</th>\n      <th>УИК</th>\n      <th>Число избирателей, включенных в список избирателей</th>\n      <th>Число избирательных бюллетеней, полученных участковой избирательной комиссией</th>\n      <th>Число избирательных бюллетеней, выданных избирателям, проголосовавшим досрочно</th>\n      <th>Число избирательных бюллетеней, выданных в помещении для голосования в день голосования</th>\n      <th>Число избирательных бюллетеней, выданных вне помещения для голосования в день голосования</th>\n      <th>Число погашенных избирательных бюллетеней</th>\n      <th>Число избирательных бюллетеней в переносных ящиках для голосования</th>\n      <th>...</th>\n      <th>Число утраченных избирательных бюллетеней</th>\n      <th>Число избирательных бюллетеней, не учтенных при получении</th>\n      <th>Бабурин Сергей Николаевич</th>\n      <th>Грудинин Павел Николаевич</th>\n      <th>Жириновский Владимир Вольфович</th>\n      <th>Путин Владимир Владимирович</th>\n      <th>Собчак Ксения Анатольевна</th>\n      <th>Сурайкин Максим Александрович</th>\n      <th>Титов Борис Юрьевич</th>\n      <th>Явлинский Григорий Алексеевич</th>\n    </tr>\n  </thead>\n  <tbody>\n    <tr>\n      <th>0</th>\n      <td>Республика Адыгея (Адыгея)</td>\n      <td>Адыгейская</td>\n      <td>Сумма</td>\n      <td>11624</td>\n      <td>11350</td>\n      <td>0</td>\n      <td>10833</td>\n      <td>399</td>\n      <td>118</td>\n      <td>399</td>\n      <td>...</td>\n      <td>0</td>\n      <td>0</td>\n      <td>24</td>\n      <td>655</td>\n      <td>149</td>\n      <td>10229</td>\n      <td>62</td>\n      <td>16</td>\n      <td>15</td>\n      <td>25</td>\n    </tr>\n    <tr>\n      <th>1</th>\n      <td>Республика Адыгея (Адыгея)</td>\n      <td>Адыгейская</td>\n      <td>УИК №1</td>\n      <td>2256</td>\n      <td>2181</td>\n      <td>0</td>\n      <td>2107</td>\n      <td>62</td>\n      <td>12</td>\n      <td>62</td>\n      <td>...</td>\n      <td>0</td>\n      <td>0</td>\n      <td>0</td>\n      <td>137</td>\n      <td>32</td>\n      <td>1977</td>\n      <td>14</td>\n      <td>0</td>\n      <td>1</td>\n      <td>5</td>\n    </tr>\n    <tr>\n      <th>2</th>\n      <td>Республика Адыгея (Адыгея)</td>\n      <td>Адыгейская</td>\n      <td>УИК №2</td>\n      <td>2700</td>\n      <td>2633</td>\n      <td>0</td>\n      <td>2575</td>\n      <td>41</td>\n      <td>17</td>\n      <td>41</td>\n      <td>...</td>\n      <td>0</td>\n      <td>0</td>\n      <td>15</td>\n      <td>86</td>\n      <td>65</td>\n      <td>2389</td>\n      <td>13</td>\n      <td>5</td>\n      <td>6</td>\n      <td>15</td>\n    </tr>\n    <tr>\n      <th>3</th>\n      <td>Республика Адыгея (Адыгея)</td>\n      <td>Адыгейская</td>\n      <td>УИК №3</td>\n      <td>2858</td>\n      <td>2752</td>\n      <td>0</td>\n      <td>2664</td>\n      <td>75</td>\n      <td>13</td>\n      <td>75</td>\n      <td>...</td>\n      <td>0</td>\n      <td>0</td>\n      <td>1</td>\n      <td>62</td>\n      <td>13</td>\n      <td>2645</td>\n      <td>6</td>\n      <td>3</td>\n      <td>4</td>\n      <td>0</td>\n    </tr>\n    <tr>\n      <th>4</th>\n      <td>Республика Адыгея (Адыгея)</td>\n      <td>Адыгейская</td>\n      <td>УИК №4</td>\n      <td>2066</td>\n      <td>2034</td>\n      <td>0</td>\n      <td>1857</td>\n      <td>142</td>\n      <td>35</td>\n      <td>142</td>\n      <td>...</td>\n      <td>0</td>\n      <td>0</td>\n      <td>5</td>\n      <td>288</td>\n      <td>12</td>\n      <td>1642</td>\n      <td>21</td>\n      <td>6</td>\n      <td>2</td>\n      <td>2</td>\n    </tr>\n    <tr>\n      <th>...</th>\n      <td>...</td>\n      <td>...</td>\n      <td>...</td>\n      <td>...</td>\n      <td>...</td>\n      <td>...</td>\n      <td>...</td>\n      <td>...</td>\n      <td>...</td>\n      <td>...</td>\n      <td>...</td>\n      <td>...</td>\n      <td>...</td>\n      <td>...</td>\n      <td>...</td>\n      <td>...</td>\n      <td>...</td>\n      <td>...</td>\n      <td>...</td>\n      <td>...</td>\n      <td>...</td>\n    </tr>\n    <tr>\n      <th>5995</th>\n      <td>Территория за пределами РФ</td>\n      <td>None</td>\n      <td>УИК №1310</td>\n      <td>2892</td>\n      <td>2900</td>\n      <td>1000</td>\n      <td>1891</td>\n      <td>0</td>\n      <td>9</td>\n      <td>1000</td>\n      <td>...</td>\n      <td>0</td>\n      <td>0</td>\n      <td>0</td>\n      <td>3</td>\n      <td>10</td>\n      <td>2878</td>\n      <td>0</td>\n      <td>0</td>\n      <td>0</td>\n      <td>0</td>\n    </tr>\n    <tr>\n      <th>5996</th>\n      <td>Территория за пределами РФ</td>\n      <td>None</td>\n      <td>УИК №1311</td>\n      <td>2867</td>\n      <td>2900</td>\n      <td>921</td>\n      <td>1941</td>\n      <td>0</td>\n      <td>38</td>\n      <td>921</td>\n      <td>...</td>\n      <td>0</td>\n      <td>0</td>\n      <td>0</td>\n      <td>3</td>\n      <td>5</td>\n      <td>2853</td>\n      <td>1</td>\n      <td>0</td>\n      <td>0</td>\n      <td>0</td>\n    </tr>\n    <tr>\n      <th>5997</th>\n      <td>Территория за пределами РФ</td>\n      <td>None</td>\n      <td>УИК №1312</td>\n      <td>2895</td>\n      <td>2900</td>\n      <td>927</td>\n      <td>1964</td>\n      <td>0</td>\n      <td>9</td>\n      <td>927</td>\n      <td>...</td>\n      <td>0</td>\n      <td>0</td>\n      <td>1</td>\n      <td>3</td>\n      <td>6</td>\n      <td>2876</td>\n      <td>2</td>\n      <td>1</td>\n      <td>1</td>\n      <td>1</td>\n    </tr>\n    <tr>\n      <th>5998</th>\n      <td>Территория за пределами РФ</td>\n      <td>None</td>\n      <td>УИК №1313</td>\n      <td>3397</td>\n      <td>3450</td>\n      <td>1103</td>\n      <td>2281</td>\n      <td>0</td>\n      <td>66</td>\n      <td>1103</td>\n      <td>...</td>\n      <td>0</td>\n      <td>0</td>\n      <td>0</td>\n      <td>7</td>\n      <td>24</td>\n      <td>3353</td>\n      <td>0</td>\n      <td>0</td>\n      <td>0</td>\n      <td>0</td>\n    </tr>\n    <tr>\n      <th>5999</th>\n      <td>Территория за пределами РФ</td>\n      <td>None</td>\n      <td>УИК №1314</td>\n      <td>2666</td>\n      <td>3000</td>\n      <td>1022</td>\n      <td>1632</td>\n      <td>0</td>\n      <td>346</td>\n      <td>1022</td>\n      <td>...</td>\n      <td>0</td>\n      <td>0</td>\n      <td>0</td>\n      <td>3</td>\n      <td>7</td>\n      <td>2643</td>\n      <td>1</td>\n      <td>0</td>\n      <td>0</td>\n      <td>0</td>\n    </tr>\n  </tbody>\n</table>\n<p>106071 rows × 23 columns</p>\n</div>",
      "text/plain": "                          Регион         Тик        УИК  \\\n0     Республика Адыгея (Адыгея)  Адыгейская      Сумма   \n1     Республика Адыгея (Адыгея)  Адыгейская     УИК №1   \n2     Республика Адыгея (Адыгея)  Адыгейская     УИК №2   \n3     Республика Адыгея (Адыгея)  Адыгейская     УИК №3   \n4     Республика Адыгея (Адыгея)  Адыгейская     УИК №4   \n...                          ...         ...        ...   \n5995  Территория за пределами РФ        None  УИК №1310   \n5996  Территория за пределами РФ        None  УИК №1311   \n5997  Территория за пределами РФ        None  УИК №1312   \n5998  Территория за пределами РФ        None  УИК №1313   \n5999  Территория за пределами РФ        None  УИК №1314   \n\n     Число избирателей, включенных в список избирателей   \\\n0                                                 11624    \n1                                                  2256    \n2                                                  2700    \n3                                                  2858    \n4                                                  2066    \n...                                                 ...    \n5995                                               2892    \n5996                                               2867    \n5997                                               2895    \n5998                                               3397    \n5999                                               2666    \n\n     Число избирательных бюллетеней, полученных участковой избирательной комиссией  \\\n0                                                 11350                              \n1                                                  2181                              \n2                                                  2633                              \n3                                                  2752                              \n4                                                  2034                              \n...                                                 ...                              \n5995                                               2900                              \n5996                                               2900                              \n5997                                               2900                              \n5998                                               3450                              \n5999                                               3000                              \n\n     Число избирательных бюллетеней, выданных избирателям, проголосовавшим досрочно  \\\n0                                                     0                               \n1                                                     0                               \n2                                                     0                               \n3                                                     0                               \n4                                                     0                               \n...                                                 ...                               \n5995                                               1000                               \n5996                                                921                               \n5997                                                927                               \n5998                                               1103                               \n5999                                               1022                               \n\n     Число избирательных бюллетеней, выданных в помещении для голосования в день голосования  \\\n0                                                 10833                                        \n1                                                  2107                                        \n2                                                  2575                                        \n3                                                  2664                                        \n4                                                  1857                                        \n...                                                 ...                                        \n5995                                               1891                                        \n5996                                               1941                                        \n5997                                               1964                                        \n5998                                               2281                                        \n5999                                               1632                                        \n\n     Число избирательных бюллетеней, выданных вне помещения для голосования в день голосования  \\\n0                                                   399                                          \n1                                                    62                                          \n2                                                    41                                          \n3                                                    75                                          \n4                                                   142                                          \n...                                                 ...                                          \n5995                                                  0                                          \n5996                                                  0                                          \n5997                                                  0                                          \n5998                                                  0                                          \n5999                                                  0                                          \n\n     Число погашенных избирательных бюллетеней  \\\n0                                          118   \n1                                           12   \n2                                           17   \n3                                           13   \n4                                           35   \n...                                        ...   \n5995                                         9   \n5996                                        38   \n5997                                         9   \n5998                                        66   \n5999                                       346   \n\n     Число избирательных бюллетеней в переносных ящиках для голосования  ...  \\\n0                                                   399                  ...   \n1                                                    62                  ...   \n2                                                    41                  ...   \n3                                                    75                  ...   \n4                                                   142                  ...   \n...                                                 ...                  ...   \n5995                                               1000                  ...   \n5996                                                921                  ...   \n5997                                                927                  ...   \n5998                                               1103                  ...   \n5999                                               1022                  ...   \n\n     Число утраченных избирательных бюллетеней  \\\n0                                            0   \n1                                            0   \n2                                            0   \n3                                            0   \n4                                            0   \n...                                        ...   \n5995                                         0   \n5996                                         0   \n5997                                         0   \n5998                                         0   \n5999                                         0   \n\n     Число избирательных бюллетеней, не учтенных при получении   \\\n0                                                     0           \n1                                                     0           \n2                                                     0           \n3                                                     0           \n4                                                     0           \n...                                                 ...           \n5995                                                  0           \n5996                                                  0           \n5997                                                  0           \n5998                                                  0           \n5999                                                  0           \n\n     Бабурин Сергей Николаевич Грудинин Павел Николаевич  \\\n0                           24                       655   \n1                            0                       137   \n2                           15                        86   \n3                            1                        62   \n4                            5                       288   \n...                        ...                       ...   \n5995                         0                         3   \n5996                         0                         3   \n5997                         1                         3   \n5998                         0                         7   \n5999                         0                         3   \n\n     Жириновский Владимир Вольфович Путин Владимир Владимирович  \\\n0                               149                       10229   \n1                                32                        1977   \n2                                65                        2389   \n3                                13                        2645   \n4                                12                        1642   \n...                             ...                         ...   \n5995                             10                        2878   \n5996                              5                        2853   \n5997                              6                        2876   \n5998                             24                        3353   \n5999                              7                        2643   \n\n     Собчак Ксения Анатольевна Сурайкин Максим Александрович  \\\n0                           62                            16   \n1                           14                             0   \n2                           13                             5   \n3                            6                             3   \n4                           21                             6   \n...                        ...                           ...   \n5995                         0                             0   \n5996                         1                             0   \n5997                         2                             1   \n5998                         0                             0   \n5999                         1                             0   \n\n     Титов Борис Юрьевич Явлинский Григорий Алексеевич  \n0                     15                            25  \n1                      1                             5  \n2                      6                            15  \n3                      4                             0  \n4                      2                             2  \n...                  ...                           ...  \n5995                   0                             0  \n5996                   0                             0  \n5997                   1                             1  \n5998                   0                             0  \n5999                   0                             0  \n\n[106071 rows x 23 columns]"
     },
     "execution_count": 188,
     "metadata": {},
     "output_type": "execute_result"
    }
   ],
   "source": [
    "df"
   ]
  }
 ],
 "metadata": {
  "kernelspec": {
   "display_name": "Python 3.9.5 64-bit",
   "name": "python395jvsc74a57bd0aee8b7b246df8f9039afb4144a1f6fd8d2ca17a180786b69acc140d282b71a49"
  },
  "language_info": {
   "codemirror_mode": {
    "name": "ipython",
    "version": 3
   },
   "file_extension": ".py",
   "mimetype": "text/x-python",
   "name": "python",
   "nbconvert_exporter": "python",
   "pygments_lexer": "ipython3",
   "version": "3.9.5"
  },
  "metadata": {
   "interpreter": {
    "hash": "aee8b7b246df8f9039afb4144a1f6fd8d2ca17a180786b69acc140d282b71a49"
   }
  },
  "orig_nbformat": 2
 },
 "nbformat": 4,
 "nbformat_minor": 2
}