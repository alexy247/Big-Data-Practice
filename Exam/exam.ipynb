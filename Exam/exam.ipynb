{
 "cells": [
  {
   "cell_type": "code",
   "execution_count": 2,
   "metadata": {},
   "outputs": [],
   "source": [
    "import os\n",
    "from multiprocessing import Pool"
   ]
  },
  {
   "cell_type": "code",
   "execution_count": 27,
   "metadata": {},
   "outputs": [],
   "source": [
    "max_threads = os.cpu_count()\n",
    "chunks = range(max_threads)\n",
    "# chunks[-1] = None"
   ]
  },
  {
   "cell_type": "code",
   "execution_count": 28,
   "metadata": {},
   "outputs": [],
   "source": [
    "def processArrayJson(array):\n",
    "    result = {}\n",
    "    for a in array:\n",
    "        print(a)\n",
    "        result = {result, processText(a.description)}\n"
   ]
  },
  {
   "cell_type": "code",
   "execution_count": 29,
   "metadata": {},
   "outputs": [],
   "source": [
    "def processText(description):\n",
    "    wordcount = {}\n",
    "    words = description.replace('.', '').split()\n",
    "    for word in words:\n",
    "        if word in wordcount:    \n",
    "            wordcount[word] += 1\n",
    "        else:\n",
    "            wordcount[word] = 1\n",
    "    print(wordcount)\n",
    "    return wordcount\n"
   ]
  },
  {
   "cell_type": "code",
   "execution_count": 33,
   "metadata": {},
   "outputs": [],
   "source": [
    "def get_stat():\n",
    "    with open('gp.jsonl', 'r') as f:\n",
    "        lines = f.readlines()\n",
    "        print('readlines')\n",
    "        with Pool(max_threads) as pool:\n",
    "            print('Pool')\n",
    "            results = pool.map(processArrayJson, [lines[chunk] for chunk in chunks])\n",
    "\n",
    "        for res in results:\n",
    "            print(res)\n",
    "\n",
    "        return results\n"
   ]
  },
  {
   "cell_type": "code",
   "execution_count": 34,
   "metadata": {},
   "outputs": [
    {
     "name": "stdout",
     "output_type": "stream",
     "text": [
      "readlines\n",
      "Pool\n"
     ]
    }
   ],
   "source": [
    "get_stat()"
   ]
  }
 ],
 "metadata": {
  "kernelspec": {
   "display_name": "Python 3.9.5 64-bit",
   "name": "python395jvsc74a57bd0aee8b7b246df8f9039afb4144a1f6fd8d2ca17a180786b69acc140d282b71a49"
  },
  "language_info": {
   "codemirror_mode": {
    "name": "ipython",
    "version": 3
   },
   "file_extension": ".py",
   "mimetype": "text/x-python",
   "name": "python",
   "nbconvert_exporter": "python",
   "pygments_lexer": "ipython3",
   "version": "3.9.5"
  },
  "metadata": {
   "interpreter": {
    "hash": "aee8b7b246df8f9039afb4144a1f6fd8d2ca17a180786b69acc140d282b71a49"
   }
  },
  "orig_nbformat": 2
 },
 "nbformat": 4,
 "nbformat_minor": 2
}